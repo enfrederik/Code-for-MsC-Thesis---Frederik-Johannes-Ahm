{
  "nbformat": 4,
  "nbformat_minor": 0,
  "metadata": {
    "colab": {
      "provenance": [],
      "toc_visible": true
    },
    "kernelspec": {
      "name": "python3",
      "display_name": "Python 3"
    },
    "language_info": {
      "name": "python"
    }
  },
  "cells": [
    {
      "cell_type": "code",
      "execution_count": null,
      "metadata": {
        "id": "_88Xvvksqius"
      },
      "outputs": [],
      "source": [
        "\n",
        "!pip install --quiet --upgrade wrds pandas psycopg2-binary\n",
        "print(\"Installed!  Runtime → Restart runtime, then re‑run your imports.\")\n"
      ]
    },
    {
      "cell_type": "code",
      "source": [
        "\n",
        "import wrds, pandas as pd, numpy as np\n",
        "\n",
        "db = wrds.Connection()\n"
      ],
      "metadata": {
        "id": "1WVFNJYBuqlo"
      },
      "execution_count": null,
      "outputs": []
    },
    {
      "cell_type": "code",
      "source": [
        "\n",
        "sp500_idx = db.raw_sql(\"\"\"\n",
        "    SELECT date AS caldt,          -- keep the “caldt” alias if you like\n",
        "           spindx\n",
        "    FROM   crsp.dsi\n",
        "    ORDER  BY date\n",
        "\"\"\")\n",
        "\n",
        "\n",
        "sp500_idx['caldt'] = pd.to_datetime(sp500_idx['caldt'])\n",
        "\n",
        "\n",
        "sp500_idx = (sp500_idx\n",
        "             .rename(columns={'spindx': 'sp500_close'})\n",
        "             .set_index('caldt')\n",
        "             .sort_index())\n",
        "\n",
        "print(sp500_idx.head())\n",
        "\n",
        "# fra 1 Jan 1985 onward\n",
        "sp500_idx = sp500_idx.loc['1985-01-01':].copy()\n",
        "\n",
        "\n",
        "print(sp500_idx.head(3))"
      ],
      "metadata": {
        "id": "IXunQAVAqzS0"
      },
      "execution_count": null,
      "outputs": []
    },
    {
      "cell_type": "code",
      "source": [
        "sp500_idx = (db.get_table('crsp', 'dsi', columns=['date', 'spindx'])\n",
        "               .rename(columns={'spindx': 'sp500_close'})\n",
        "               .set_index('date')\n",
        "               .sort_index())\n",
        "print(sp500_idx)"
      ],
      "metadata": {
        "id": "z-UtRHuKwpiq"
      },
      "execution_count": null,
      "outputs": []
    },
    {
      "cell_type": "code",
      "source": [
        "# 0)\n",
        "sp_members = db.raw_sql(\"\"\"\n",
        "    SELECT permno,\n",
        "           start  AS enter_date,\n",
        "           COALESCE(ending, '9999-12-31') AS exit_date\n",
        "    FROM   crsp.dsp500list\n",
        "\"\"\")\n",
        "\n",
        "# 1)\n",
        "links = db.raw_sql(\"\"\"\n",
        "    SELECT lpermno AS permno,\n",
        "           gvkey\n",
        "    FROM   crsp.ccmxpf_linktable\n",
        "    WHERE  linktype IN ('LU','LC')\n",
        "      AND  linkprim IN ('P','C')\n",
        "      AND  gvkey IS NOT NULL\n",
        "\"\"\").drop_duplicates('permno')\n",
        "\n",
        "# 2)\n",
        "gics = db.raw_sql(\"\"\"\n",
        "    SELECT gvkey,\n",
        "           gsector\n",
        "    FROM   comp.company\n",
        "    WHERE  gsector IS NOT NULL\n",
        "\"\"\")\n",
        "\n",
        "# 3)\n",
        "memb_sec = (sp_members\n",
        "            .merge(links, on='permno', how='left')\n",
        "            .merge(gics,  on='gvkey',  how='left')\n",
        "            .dropna(subset=['gsector']))\n",
        "\n",
        "# 4)\n",
        "permno_list = ', '.join(str(int(x)) for x in memb_sec['permno'].unique())\n",
        "\n",
        "crsp_daily = db.raw_sql(f\"\"\"\n",
        "    SELECT permno,\n",
        "           date,\n",
        "           prc,\n",
        "           shrout,\n",
        "           ret\n",
        "    FROM   crsp.dsf\n",
        "    WHERE  permno IN ({permno_list})\n",
        "\"\"\")\n",
        "\n",
        "crsp_daily['mktcap'] = crsp_daily['prc'].abs() * crsp_daily['shrout']\n",
        "\n",
        "# 5)\n",
        "crsp_daily = (crsp_daily\n",
        "              .merge(memb_sec, on='permno', how='left')\n",
        "              .query('enter_date <= date <= exit_date')\n",
        "              .dropna(subset=['gsector']))\n",
        "\n",
        "# 6)\n",
        "sect_daily_ret = (\n",
        "    crsp_daily\n",
        "      .assign(weight=lambda d:\n",
        "              d['mktcap'] / d.groupby(['date','gsector'])['mktcap'].transform('sum'))\n",
        "      .assign(wret=lambda d: d['weight'] * d['ret'])\n",
        "      .groupby(['date','gsector'])['wret'].sum()\n",
        "      .reset_index()\n",
        ")\n",
        "\n",
        "# 7)\n",
        "pivot_ret = (sect_daily_ret\n",
        "             .pivot(index='date', columns='gsector', values='wret')\n",
        "             .sort_index())\n",
        "\n",
        "sect_idx = ((1 + pivot_ret.fillna(0)).cumprod() * 100) \\\n",
        "             .rename(columns={\n",
        "                 '10':'Energy','15':'Materials','20':'Industrials',\n",
        "                 '25':'ConsDiscr','30':'ConsStaples','35':'HealthCare',\n",
        "                 '40':'Financials','45':'InfoTech','50':'CommServices',\n",
        "                 '55':'Utilities','60':'RealEstate'\n",
        "             }) \\\n",
        "             .astype(float)\n",
        "\n",
        "# 8)\n",
        "sect_idx.to_parquet('sp500_sector_indices.parquet')\n",
        "print(sect_idx.head())"
      ],
      "metadata": {
        "id": "ngvVKuB3xQW1"
      },
      "execution_count": null,
      "outputs": []
    },
    {
      "cell_type": "code",
      "source": [
        "\n",
        "sect_idx.to_csv('sp500_sector_indices.csv')\n",
        "sect_idx.to_excel('sp500_sector_indices.xlsx')\n",
        "\n",
        "\n",
        "from google.colab import files\n",
        "files.download('/content/sp500_sector_indices.csv')\n",
        "files.download('/content/sp500_sector_indices.xlsx')\n"
      ],
      "metadata": {
        "id": "W1LzFj7NxTFh"
      },
      "execution_count": null,
      "outputs": []
    },
    {
      "cell_type": "code",
      "source": [
        "\n",
        "sp500_idx.to_csv('sp500_close_daily.csv')\n",
        "sp500_idx.to_excel('sp500_close_daily.xlsx')\n",
        "\n",
        "\n",
        "from google.colab import files\n",
        "files.download('/content/sp500_close_daily.csv')\n",
        "files.download('/content/sp500_close_daily.xlsx')\n",
        "\n"
      ],
      "metadata": {
        "id": "yMTzzaL_xYEs"
      },
      "execution_count": null,
      "outputs": []
    }
  ]
}